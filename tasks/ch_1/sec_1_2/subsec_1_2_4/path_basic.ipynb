{
 "cells": [
  {
   "cell_type": "code",
   "execution_count": 3,
   "id": "e40b77a3",
   "metadata": {},
   "outputs": [],
   "source": [
    "from pathlib import Path"
   ]
  },
  {
   "cell_type": "code",
   "execution_count": 4,
   "id": "54422def",
   "metadata": {},
   "outputs": [
    {
     "name": "stdout",
     "output_type": "stream",
     "text": [
      "root_path: ..\\subsec_1_2_2\n",
      "type: <class 'pathlib.WindowsPath'>\n",
      "is_path: True\n"
     ]
    }
   ],
   "source": [
    "# `str` 类型转 `Path` 类型\n",
    "root_path = Path(\"../subsec_1_2_2\")\n",
    "\n",
    "print(f\"root_path: {root_path}\")\n",
    "print(f\"type: {type(root_path)}\")\n",
    "\n",
    "# 各种 `pathlib.xxPath` 的基类都为 `pathlib.Path`\n",
    "is_path = isinstance(root_path, Path)\n",
    "\n",
    "print(f\"is_path: {is_path}\")"
   ]
  },
  {
   "cell_type": "code",
   "execution_count": 5,
   "id": "14b67cf8",
   "metadata": {},
   "outputs": [
    {
     "name": "stdout",
     "output_type": "stream",
     "text": [
      "..\\subsec_1_2_2\\my_class\n",
      "is_exist: True\n",
      "is_file: False\n",
      "is_dir: True\n"
     ]
    }
   ],
   "source": [
    "# navigate\n",
    "my_clasa_path = root_path / \"my_class\"\n",
    "\n",
    "print(my_clasa_path)\n",
    "\n",
    "# 判断是否存在\n",
    "is_exist = my_clasa_path.exists()\n",
    "\n",
    "# 判断类型\n",
    "is_file = my_clasa_path.is_file()\n",
    "is_dir = my_clasa_path.is_dir()\n",
    "\n",
    "print(f\"is_exist: {is_exist}\")\n",
    "print(f\"is_file: {is_file}\")\n",
    "print(f\"is_dir: {is_dir}\")"
   ]
  },
  {
   "cell_type": "code",
   "execution_count": 6,
   "id": "8f39a2d7",
   "metadata": {},
   "outputs": [
    {
     "name": "stdout",
     "output_type": "stream",
     "text": [
      "..\\subsec_1_2_2\\my_class\\person.py\n",
      "is_exist: True\n",
      "is_file: True\n",
      "is_dir: False\n"
     ]
    }
   ],
   "source": [
    "# navigate\n",
    "person_path = root_path / \"my_class\" / \"person.py\"\n",
    "\n",
    "print(person_path)\n",
    "\n",
    "# 判断是否存在\n",
    "is_exist = person_path.exists()\n",
    "\n",
    "# 判断类型\n",
    "is_file = person_path.is_file()\n",
    "is_dir = person_path.is_dir()\n",
    "\n",
    "print(f\"is_exist: {is_exist}\")\n",
    "print(f\"is_file: {is_file}\")\n",
    "print(f\"is_dir: {is_dir}\")"
   ]
  },
  {
   "cell_type": "code",
   "execution_count": 7,
   "id": "28686ef7",
   "metadata": {},
   "outputs": [
    {
     "name": "stdout",
     "output_type": "stream",
     "text": [
      "abs_person_path: E:\\ai_project\\preliminary_for_ai_research\\tasks\\ch_1\\sec_1_2\\subsec_1_2_2\\my_class\\person.py, type: <class 'pathlib.WindowsPath'>\n",
      "abs_person_path_str: E:\\ai_project\\preliminary_for_ai_research\\tasks\\ch_1\\sec_1_2\\subsec_1_2_2\\my_class\\person.py, type: <class 'str'>\n"
     ]
    }
   ],
   "source": [
    "# 相对路径转绝对路径\n",
    "abs_person_path = person_path.resolve()\n",
    "\n",
    "# `Path` 类型转 `str` 类型\n",
    "abs_person_path_str = str(abs_person_path)\n",
    "\n",
    "print(f\"abs_person_path: {abs_person_path}, type: {type(abs_person_path)}\")\n",
    "print(f\"abs_person_path_str: {abs_person_path_str}, type: {type(abs_person_path_str)}\")"
   ]
  },
  {
   "cell_type": "code",
   "execution_count": 8,
   "id": "0c919aea",
   "metadata": {},
   "outputs": [
    {
     "name": "stdout",
     "output_type": "stream",
     "text": [
      "..\\subsec_1_2_2\\my_class\\person_2.py\n",
      "is_exist: False\n",
      "is_file: False\n",
      "is_dir: False\n"
     ]
    }
   ],
   "source": [
    "# 不存在的路径\n",
    "person_2_path = root_path / \"my_class\" / \"person_2.py\"\n",
    "\n",
    "print(person_2_path)\n",
    "\n",
    "# 判断是否存在\n",
    "is_exist = person_2_path.exists()\n",
    "\n",
    "# 判断类型\n",
    "is_file = person_2_path.is_file()\n",
    "is_dir = person_2_path.is_dir()\n",
    "\n",
    "print(f\"is_exist: {is_exist}\")\n",
    "print(f\"is_file: {is_file}\")\n",
    "print(f\"is_dir: {is_dir}\")"
   ]
  },
  {
   "cell_type": "code",
   "execution_count": 9,
   "id": "50ebc867",
   "metadata": {},
   "outputs": [
    {
     "name": "stdout",
     "output_type": "stream",
     "text": [
      "path_part_tuple: ('..', 'subsec_1_2_2', 'my_class', 'person_2.py')\n",
      "abs_path_part_tuple: ('E:\\\\', 'ai_project', 'preliminary_for_ai_research', 'tasks', 'ch_1', 'sec_1_2', 'subsec_1_2_2', 'my_class', 'person_2.py')\n"
     ]
    }
   ],
   "source": [
    "# 相对路径的组成\n",
    "path_part_tuple = person_2_path.parts\n",
    "\n",
    "print(f\"path_part_tuple: {path_part_tuple}\")\n",
    "\n",
    "# 绝对路径的组成\n",
    "abs_path_part_tuple = person_2_path.resolve() \\\n",
    "    .parts\n",
    "\n",
    "print(f\"abs_path_part_tuple: {abs_path_part_tuple}\")"
   ]
  },
  {
   "cell_type": "code",
   "execution_count": 10,
   "id": "18a6d36d",
   "metadata": {},
   "outputs": [
    {
     "name": "stdout",
     "output_type": "stream",
     "text": [
      "person_path: ..\\subsec_1_2_2\\my_class\\person.py\n",
      "person_parent_path: ..\\subsec_1_2_2\\my_class\n"
     ]
    }
   ],
   "source": [
    "# 上级目录\n",
    "person_parent_path = person_path.parent\n",
    "\n",
    "print(f\"person_path: {person_path}\")\n",
    "print(f\"person_parent_path: {person_parent_path}\")"
   ]
  },
  {
   "cell_type": "code",
   "execution_count": null,
   "id": "09a5b452",
   "metadata": {},
   "outputs": [],
   "source": []
  }
 ],
 "metadata": {
  "kernelspec": {
   "display_name": "no_pain_diffusion",
   "language": "python",
   "name": "python3"
  },
  "language_info": {
   "codemirror_mode": {
    "name": "ipython",
    "version": 3
   },
   "file_extension": ".py",
   "mimetype": "text/x-python",
   "name": "python",
   "nbconvert_exporter": "python",
   "pygments_lexer": "ipython3",
   "version": "3.10.18"
  }
 },
 "nbformat": 4,
 "nbformat_minor": 5
}
