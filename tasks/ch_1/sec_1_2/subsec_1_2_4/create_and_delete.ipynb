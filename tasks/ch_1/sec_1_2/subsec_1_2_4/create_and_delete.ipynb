{
 "cells": [
  {
   "cell_type": "code",
   "execution_count": 2,
   "id": "682b73d0",
   "metadata": {},
   "outputs": [],
   "source": [
    "from pathlib import Path"
   ]
  },
  {
   "cell_type": "code",
   "execution_count": 3,
   "id": "0c768f2c",
   "metadata": {},
   "outputs": [],
   "source": [
    "root_path = Path(\".\")\n",
    "\n",
    "path_wo_dot = root_path / \"path_wo_dot\""
   ]
  },
  {
   "cell_type": "code",
   "execution_count": 6,
   "id": "f03f7672",
   "metadata": {},
   "outputs": [],
   "source": [
    "# 创建文件\n",
    "test_txt_path = path_wo_dot / \"test_txt.txt\"\n",
    "\n",
    "# 若文件不存在则创建\n",
    "# 若文件存在, 若 `exist_ok = True` (默认) 则更新时间戳; 否则报错\n",
    "test_txt_path.touch(\n",
    "    exist_ok = True, \n",
    "    # exist_ok = False\n",
    ")"
   ]
  },
  {
   "cell_type": "code",
   "execution_count": 9,
   "id": "6a68b847",
   "metadata": {},
   "outputs": [],
   "source": [
    "# 创建目录 (仅创建一级直接目录)\n",
    "path_2 = root_path / \"path_2\"\n",
    "\n",
    "# 若目录不存在则创建\n",
    "# 若目录存在, 若 `exist_ok = False` (默认), 则报错; 否则更新时间戳\n",
    "path_2.mkdir(\n",
    "    # exist_ok = False, \n",
    "    exist_ok = True\n",
    ")"
   ]
  },
  {
   "cell_type": "code",
   "execution_count": 12,
   "id": "10112441",
   "metadata": {},
   "outputs": [],
   "source": [
    "# 在指定目录下创建一个 `test.txt` 文件\n",
    "def create_test_txt_in_dir(\n",
    "    path: str | Path\n",
    "):\n",
    "    if isinstance(path, str):\n",
    "        path = Path(path)\n",
    "\n",
    "    # 先创建 `path` 路径\n",
    "    # 默认 `parents = False`, `parent_path` 中间一级不存在时报错\n",
    "    path.mkdir(\n",
    "        # parents = False, \n",
    "        parents = True, \n",
    "\n",
    "        exist_ok = True\n",
    "    )\n",
    "\n",
    "    test_txt_path = path / \"test.txt\"\n",
    "    test_txt_path.touch(\n",
    "        exist_ok = True\n",
    "    )\n",
    "\n",
    "    # `create_test_txt_in_dir()` done\n",
    "    pass"
   ]
  },
  {
   "cell_type": "code",
   "execution_count": 13,
   "id": "a436c886",
   "metadata": {},
   "outputs": [],
   "source": [
    "target_path = \"./path_2/path_3/path_4\"\n",
    "\n",
    "create_test_txt_in_dir(\n",
    "    path = target_path\n",
    ")"
   ]
  },
  {
   "cell_type": "code",
   "execution_count": 14,
   "id": "8cb8ed1f",
   "metadata": {},
   "outputs": [],
   "source": [
    "# 在指定目录创建一个 `test.txt` 文件\n",
    "def create_test_txt_at_path(\n",
    "    path: str | Path\n",
    "):\n",
    "    if isinstance(path, str):\n",
    "        path = Path(path)\n",
    "\n",
    "    # 先创建 `path` 的父亲路径\n",
    "    parent_path = path.parent\n",
    "    parent_path.mkdir( \n",
    "        parents = True, \n",
    "\n",
    "        exist_ok = True\n",
    "    )\n",
    "\n",
    "    path.touch(\n",
    "        exist_ok = True\n",
    "    )\n",
    "\n",
    "    # `create_test_txt()` done\n",
    "    pass"
   ]
  },
  {
   "cell_type": "code",
   "execution_count": 15,
   "id": "57b41477",
   "metadata": {},
   "outputs": [],
   "source": [
    "target_path = \"./path_2/path_3/test.txt\"\n",
    "\n",
    "create_test_txt_at_path(\n",
    "    path = target_path\n",
    ")"
   ]
  },
  {
   "cell_type": "code",
   "execution_count": 16,
   "id": "9c261363",
   "metadata": {},
   "outputs": [],
   "source": [
    "test_txt_path = Path(\"./path_2/path_3/path_4/test.txt\")\n",
    "\n",
    "# 删除单个文件\n",
    "test_txt_path.unlink()"
   ]
  },
  {
   "cell_type": "code",
   "execution_count": 18,
   "id": "bc131b02",
   "metadata": {},
   "outputs": [],
   "source": [
    "path_3 = Path(\"./path_2/path_3\")\n",
    "path_4 = Path(\"./path_2/path_3/path_4\")\n",
    "\n",
    "# 删除单个目录, 目录非空则报错\n",
    "# path_3.rmdir()  # 报错\n",
    "path_4.rmdir()"
   ]
  },
  {
   "cell_type": "code",
   "execution_count": 19,
   "id": "f2774461",
   "metadata": {},
   "outputs": [],
   "source": [
    "import shutil\n",
    "\n",
    "\n",
    "path_2 = Path(\"./path_2\")\n",
    "\n",
    "# 递归删目录\n",
    "shutil.rmtree(path_2)"
   ]
  },
  {
   "cell_type": "code",
   "execution_count": null,
   "id": "3e31928e",
   "metadata": {},
   "outputs": [],
   "source": []
  }
 ],
 "metadata": {
  "kernelspec": {
   "display_name": "no_pain_diffusion",
   "language": "python",
   "name": "python3"
  },
  "language_info": {
   "codemirror_mode": {
    "name": "ipython",
    "version": 3
   },
   "file_extension": ".py",
   "mimetype": "text/x-python",
   "name": "python",
   "nbconvert_exporter": "python",
   "pygments_lexer": "ipython3",
   "version": "3.10.18"
  }
 },
 "nbformat": 4,
 "nbformat_minor": 5
}
