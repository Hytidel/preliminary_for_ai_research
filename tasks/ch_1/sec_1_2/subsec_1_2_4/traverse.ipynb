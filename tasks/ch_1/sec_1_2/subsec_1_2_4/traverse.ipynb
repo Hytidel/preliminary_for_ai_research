{
 "cells": [
  {
   "cell_type": "code",
   "execution_count": 1,
   "id": "8d44ae58",
   "metadata": {},
   "outputs": [],
   "source": [
    "from pathlib import Path"
   ]
  },
  {
   "cell_type": "code",
   "execution_count": 2,
   "id": "b240fa9f",
   "metadata": {},
   "outputs": [
    {
     "data": {
      "text/plain": [
       "[WindowsPath('create_and_delete.ipynb'),\n",
       " WindowsPath('name_suffix_stem.ipynb'),\n",
       " WindowsPath('path_basic.ipynb'),\n",
       " WindowsPath('path_wo_dot'),\n",
       " WindowsPath('path_w_.dot'),\n",
       " WindowsPath('traverse.ipynb')]"
      ]
     },
     "execution_count": 2,
     "metadata": {},
     "output_type": "execute_result"
    }
   ],
   "source": [
    "root_path = Path(\".\")\n",
    "\n",
    "# 遍历子路径\n",
    "path_list = list(\n",
    "    root_path.iterdir()\n",
    ")\n",
    "\n",
    "path_list"
   ]
  },
  {
   "cell_type": "code",
   "execution_count": 3,
   "id": "895517a2",
   "metadata": {},
   "outputs": [
    {
     "data": {
      "text/plain": [
       "[WindowsPath('path_wo_dot'), WindowsPath('path_w_.dot')]"
      ]
     },
     "execution_count": 3,
     "metadata": {},
     "output_type": "execute_result"
    }
   ],
   "source": [
    "# 是目录的子路径\n",
    "dir_path_list = [\n",
    "    path \\\n",
    "        for path in root_path.iterdir() \\\n",
    "            if path.is_dir()\n",
    "]\n",
    "\n",
    "dir_path_list"
   ]
  },
  {
   "cell_type": "code",
   "execution_count": 3,
   "id": "04424975",
   "metadata": {},
   "outputs": [
    {
     "data": {
      "text/plain": [
       "[WindowsPath('create_and_delete.ipynb'),\n",
       " WindowsPath('name_suffix_stem.ipynb'),\n",
       " WindowsPath('path_basic.ipynb'),\n",
       " WindowsPath('traverse.ipynb')]"
      ]
     },
     "execution_count": 3,
     "metadata": {},
     "output_type": "execute_result"
    }
   ],
   "source": [
    "# `.ipynb` 类型的子路径\n",
    "ipynb_path_list = [\n",
    "    path \\\n",
    "        for path in root_path.iterdir() \\\n",
    "            if (path.is_file() and (path.suffix == \".ipynb\"))\n",
    "]\n",
    "\n",
    "ipynb_path_list"
   ]
  },
  {
   "cell_type": "code",
   "execution_count": 4,
   "id": "00a97e7f",
   "metadata": {},
   "outputs": [
    {
     "data": {
      "text/plain": [
       "[WindowsPath('create_and_delete.ipynb'),\n",
       " WindowsPath('name_suffix_stem.ipynb'),\n",
       " WindowsPath('path_basic.ipynb'),\n",
       " WindowsPath('path_wo_dot'),\n",
       " WindowsPath('path_w_.dot'),\n",
       " WindowsPath('traverse.ipynb'),\n",
       " WindowsPath('path_wo_dot/test_no_suffix'),\n",
       " WindowsPath('path_wo_dot/test_txt.txt'),\n",
       " WindowsPath('path_w_.dot/test_no_suffix'),\n",
       " WindowsPath('path_w_.dot/test_txt.txt')]"
      ]
     },
     "execution_count": 4,
     "metadata": {},
     "output_type": "execute_result"
    }
   ],
   "source": [
    "# 递归遍历子路径\n",
    "# `**/*` 中, `**` 表示当前目录任意深度的子目录, `*` 表示任意名称的文件\n",
    "recursion_path_list = list(\n",
    "    root_path.glob(f\"**/*\")\n",
    ")\n",
    "\n",
    "recursion_path_list"
   ]
  },
  {
   "cell_type": "code",
   "execution_count": 5,
   "id": "b773c8a2",
   "metadata": {},
   "outputs": [
    {
     "data": {
      "text/plain": [
       "[WindowsPath('path_wo_dot/test_txt.txt'),\n",
       " WindowsPath('path_w_.dot/test_txt.txt')]"
      ]
     },
     "execution_count": 5,
     "metadata": {},
     "output_type": "execute_result"
    }
   ],
   "source": [
    "# (递归) `.txt` 类型的子路径\n",
    "recursion_txt_path_list = list(\n",
    "    root_path.glob(f\"**/*.txt\")\n",
    ")\n",
    "\n",
    "recursion_txt_path_list"
   ]
  },
  {
   "cell_type": "code",
   "execution_count": 6,
   "id": "1c4110eb",
   "metadata": {},
   "outputs": [
    {
     "data": {
      "text/plain": [
       "[WindowsPath('path_wo_dot/test_txt.txt'),\n",
       " WindowsPath('path_w_.dot/test_txt.txt')]"
      ]
     },
     "execution_count": 6,
     "metadata": {},
     "output_type": "execute_result"
    }
   ],
   "source": [
    "# 另一实现\n",
    "# (递归) `.txt` 类型的子路径\n",
    "recursion_txt_path_list = list(\n",
    "    root_path.rglob(f\"*.txt\")\n",
    ")\n",
    "\n",
    "recursion_txt_path_list"
   ]
  },
  {
   "cell_type": "code",
   "execution_count": null,
   "id": "801dfe25",
   "metadata": {},
   "outputs": [],
   "source": []
  }
 ],
 "metadata": {
  "kernelspec": {
   "display_name": "no_pain_diffusion",
   "language": "python",
   "name": "python3"
  },
  "language_info": {
   "codemirror_mode": {
    "name": "ipython",
    "version": 3
   },
   "file_extension": ".py",
   "mimetype": "text/x-python",
   "name": "python",
   "nbconvert_exporter": "python",
   "pygments_lexer": "ipython3",
   "version": "3.10.18"
  }
 },
 "nbformat": 4,
 "nbformat_minor": 5
}
