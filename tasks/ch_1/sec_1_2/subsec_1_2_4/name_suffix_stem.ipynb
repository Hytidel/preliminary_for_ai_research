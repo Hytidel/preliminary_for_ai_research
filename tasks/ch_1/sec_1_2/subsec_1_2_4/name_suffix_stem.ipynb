{
 "cells": [
  {
   "cell_type": "code",
   "execution_count": 1,
   "id": "7e110709",
   "metadata": {},
   "outputs": [],
   "source": [
    "from pathlib import Path"
   ]
  },
  {
   "cell_type": "code",
   "execution_count": 2,
   "id": "f9ca7d4e",
   "metadata": {},
   "outputs": [
    {
     "data": {
      "text/plain": [
       "WindowsPath('.')"
      ]
     },
     "execution_count": 2,
     "metadata": {},
     "output_type": "execute_result"
    }
   ],
   "source": [
    "root_path = Path(\".\")\n",
    "\n",
    "root_path"
   ]
  },
  {
   "cell_type": "code",
   "execution_count": 3,
   "id": "187525b4",
   "metadata": {},
   "outputs": [
    {
     "name": "stdout",
     "output_type": "stream",
     "text": [
      "name: test_txt.txt\n",
      "suffix: .txt\n",
      "stem: test_txt\n"
     ]
    }
   ],
   "source": [
    "path_wo_dot = root_path / \"path_wo_dot\"\n",
    "\n",
    "test_txt_path = path_wo_dot / \"test_txt.txt\"\n",
    "\n",
    "# 文件名 (含后缀)\n",
    "test_txt_name = test_txt_path.name\n",
    "\n",
    "# 后缀\n",
    "test_txt_suffix = test_txt_path.suffix\n",
    "\n",
    "# 文件名 (不含后缀)\n",
    "test_txt_stem = test_txt_path.stem\n",
    "\n",
    "print(f\"name: {test_txt_name}\")\n",
    "print(f\"suffix: {test_txt_suffix}\")\n",
    "print(f\"stem: {test_txt_stem}\")"
   ]
  },
  {
   "cell_type": "code",
   "execution_count": 4,
   "id": "b48188b7",
   "metadata": {},
   "outputs": [
    {
     "name": "stdout",
     "output_type": "stream",
     "text": [
      "name: test_no_suffix\n",
      "suffix:  True\n",
      "stem: test_no_suffix\n"
     ]
    }
   ],
   "source": [
    "path_wo_dot = root_path / \"path_wo_dot\"\n",
    "\n",
    "test_no_suffix_path = path_wo_dot / \"test_no_suffix\"\n",
    "\n",
    "# 文件名 (含后缀)\n",
    "test_no_suffix_name = test_no_suffix_path.name\n",
    "\n",
    "# 后缀\n",
    "test_no_suffix_suffix = test_no_suffix_path.suffix\n",
    "\n",
    "# 文件名 (不含后缀)\n",
    "test_no_suffix_stem = test_no_suffix_path.stem\n",
    "\n",
    "print(f\"name: {test_no_suffix_name}\")\n",
    "# 注意 `suffix` 不是 None, 而是空串\n",
    "print(f\"suffix: {test_no_suffix_suffix}\", test_no_suffix_suffix == \"\")\n",
    "print(f\"stem: {test_no_suffix_stem}\")"
   ]
  },
  {
   "cell_type": "code",
   "execution_count": 5,
   "id": "ad9c4387",
   "metadata": {},
   "outputs": [
    {
     "name": "stdout",
     "output_type": "stream",
     "text": [
      "name: path_wo_dot\n",
      "suffix:  True\n",
      "stem: path_wo_dot\n"
     ]
    }
   ],
   "source": [
    "path_wo_dot = root_path / \"path_wo_dot\"\n",
    "\n",
    "# 文件名 (含后缀)\n",
    "path_wo_dot_name = path_wo_dot.name\n",
    "\n",
    "# 后缀\n",
    "path_wo_dot_suffix = path_wo_dot.suffix\n",
    "\n",
    "# 文件名 (不含后缀)\n",
    "path_wo_dot_stem = path_wo_dot.stem\n",
    "\n",
    "print(f\"name: {path_wo_dot_name}\")\n",
    "print(f\"suffix: {path_wo_dot_suffix}\", path_wo_dot_suffix == \"\")\n",
    "print(f\"stem: {path_wo_dot_stem}\")"
   ]
  },
  {
   "cell_type": "code",
   "execution_count": 6,
   "id": "fb7aa0b4",
   "metadata": {},
   "outputs": [
    {
     "name": "stdout",
     "output_type": "stream",
     "text": [
      "name: path_w_.dot\n",
      "suffix: .dot False\n",
      "stem: path_w_\n"
     ]
    }
   ],
   "source": [
    "path_w_dot = root_path / \"path_w_.dot\"\n",
    "\n",
    "# 文件名 (含后缀)\n",
    "path_w_dot_name = path_w_dot.name\n",
    "\n",
    "# 后缀\n",
    "path_w_dot_suffix = path_w_dot.suffix\n",
    "\n",
    "# 文件名 (不含后缀)\n",
    "path_w_dot_stem = path_w_dot.stem\n",
    "\n",
    "print(f\"name: {path_w_dot_name}\")\n",
    "print(f\"suffix: {path_w_dot_suffix}\", path_w_dot_suffix == \"\")\n",
    "print(f\"stem: {path_w_dot_stem}\")"
   ]
  },
  {
   "cell_type": "code",
   "execution_count": null,
   "id": "26179fa0",
   "metadata": {},
   "outputs": [],
   "source": []
  }
 ],
 "metadata": {
  "kernelspec": {
   "display_name": "no_pain_diffusion",
   "language": "python",
   "name": "python3"
  },
  "language_info": {
   "codemirror_mode": {
    "name": "ipython",
    "version": 3
   },
   "file_extension": ".py",
   "mimetype": "text/x-python",
   "name": "python",
   "nbconvert_exporter": "python",
   "pygments_lexer": "ipython3",
   "version": "3.10.18"
  }
 },
 "nbformat": 4,
 "nbformat_minor": 5
}
